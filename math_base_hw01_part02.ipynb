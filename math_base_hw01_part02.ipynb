{
 "cells": [
  {
   "cell_type": "markdown",
   "metadata": {},
   "source": [
    "<center>\n",
    "    <img src=\"https://raw.githubusercontent.com/dvgodoy/PyTorch101_ODSC_Europe2020/master/images/linear_dogs.jpg\" height=\"400\" width=\"800\"> \n",
    "</center>  \n",
    "\n",
    "# Yet another math for DS course: домашнее задание 1"
   ]
  },
  {
   "cell_type": "markdown",
   "metadata": {},
   "source": [
    "**ФИО:** Вершинин Сергей Владимирович\n",
    "\n",
    "**Забавный факт о себе:** Я уже не особо забавный :)"
   ]
  },
  {
   "cell_type": "markdown",
   "metadata": {},
   "source": [
    "## Общая информация\n",
    "\n",
    "\n",
    "__Дата выдачи:__ 03.10.2023\n",
    "\n",
    "__Мягкий дедлайн:__ 23:59MSK 29.10.2023\n",
    "__Жёсткий дедлайн:__ 23:59MSK 05.11.2023"
   ]
  },
  {
   "cell_type": "markdown",
   "metadata": {},
   "source": [
    "## Формат сдачи\n",
    "\n",
    "Сам ноутбук называйте в формате hw-01-USERNAME.ipynb, где USERNAME — ваши фамилия и имя. Файл надо будет сдать в anytask."
   ]
  },
  {
   "cell_type": "markdown",
   "metadata": {},
   "source": [
    "## Оформление"
   ]
  },
  {
   "cell_type": "markdown",
   "metadata": {},
   "source": [
    "1. Be good, drink milk and [think of Russia](https://www.youtube.com/watch?v=jyxSFfBKMxQ)\n",
    "2. Обязательно фиксируйте зерно генератора случайных чисел в экспериментах. При перезапуске кода значения не должны меняться.\n",
    "3. Вверху файла подпишите фамилию, имя, группу и какой-то занимательный факт о себе.\n",
    "4. Обратите внимание, что у графиков должны быть подписаны оси, заголовок графика и при необходимости обязательно наличие легенды. \n",
    "\n",
    "> За отсутствие названий графиков и подписей к осям могут снижаться баллы. Все картинки должны быть самодостаточны и визуально удобны для восприятия, так чтобы не нужно было смотреть ваш код или знать задание, чтобы понять что на них изображено.\n",
    "\n",
    "\n",
    "Для каждого построенного графика делайте выводы. Эти выводы не должны быть поверхностными и очевидными. Не будьте мудрым королём.\n",
    "\n",
    "<br>\n",
    "\n",
    "<center>\n",
    "<img src=\"https://raw.githubusercontent.com/hse-econ-data-science/andan_2023/main/hw/king.png\" width=\"300\"> \n",
    "</center>\n",
    "\n",
    "**Пример плохого вывода:** Синенькая линия идет вверх, а красная вниз. Черненькая идет вниз, а потом вверх. \n",
    "\n",
    "<br>\n",
    "\n",
    "<center>\n",
    "<img src=\"https://raw.githubusercontent.com/hse-econ-data-science/andan_2023/main/hw/bad_lines.png\" width=\"600\"> \n",
    "</center>"
   ]
  },
  {
   "cell_type": "markdown",
   "metadata": {},
   "source": [
    "Это домашнее задание состоит из двух частей: \n",
    "\n",
    "- Часть с кодом\n",
    "- Часть с ручными задачами\n",
    "\n",
    "Часть с кодом должна быть оформлена на в юпитерской тетрадке. Весь код необходимо писать на python.\n",
    "\n",
    "Ручную часть можно решать на бумаге и оформить в виде отсканированной pdf-ки с разборчивым почерком. Можно вбить решение в виде формул прямо в юпитерскую тетрадку, можно сделать pdf-ку в техе."
   ]
  },
  {
   "cell_type": "markdown",
   "metadata": {},
   "source": [
    "## Часть 1: ручная\n",
    "\n",
    "За эту часть можно набрать 60 баллов. Также можно набрать бонусные 15 баллов. \n",
    "\n",
    "Условия задач [лежат по ссылке](https://github.com/FUlyankin/yet_another_math_for_DS/tree/main/hw)"
   ]
  },
  {
   "cell_type": "markdown",
   "metadata": {},
   "source": [
    "## Часть 2: пишем код\n",
    "\n",
    "За эту часть вы можете получить 40 обычных баллов и ещё 15 бонусных."
   ]
  },
  {
   "cell_type": "code",
   "execution_count": 2,
   "metadata": {
    "ExecuteTime": {
     "end_time": "2023-10-28T12:56:23.348045800Z",
     "start_time": "2023-10-28T12:56:21.685531900Z"
    }
   },
   "outputs": [],
   "source": [
    "import numpy as np\n",
    "\n",
    "import scipy.linalg as sla\n",
    "\n",
    "import matplotlib.pyplot as plt\n",
    "%matplotlib inline"
   ]
  },
  {
   "cell_type": "markdown",
   "source": [
    "Фиксируем зерно генератора случайных чисел (исходя из [этого сообщения](https://t.me/c/1949286954/2/1322) в чате предмета, которое отметил и Филипп, зафиксировать его достаточно в 1й ячейке ноутбука)"
   ],
   "metadata": {
    "collapsed": false
   }
  },
  {
   "cell_type": "code",
   "execution_count": 3,
   "outputs": [],
   "source": [
    "np.random.seed(89)"
   ],
   "metadata": {
    "collapsed": false,
    "ExecuteTime": {
     "end_time": "2023-10-28T12:56:24.683223100Z",
     "start_time": "2023-10-28T12:56:24.677822300Z"
    }
   }
  },
  {
   "cell_type": "markdown",
   "metadata": {},
   "source": [
    "## Задача №1: тупая механическая работа"
   ]
  },
  {
   "cell_type": "markdown",
   "metadata": {},
   "source": [
    "__[2 балла]__ Создайте диагональную матрицу $5\\times5$ с диагональными элементами 1, 2, 3, 4 и 5. \n",
    "\n",
    "- Найдите её след с помощью библиотечных функций. \n",
    "- Найдите обратную к ней матрицу."
   ]
  },
  {
   "cell_type": "code",
   "execution_count": 3,
   "metadata": {
    "ExecuteTime": {
     "end_time": "2023-10-28T07:33:24.174075600Z",
     "start_time": "2023-10-28T07:33:24.161809400Z"
    }
   },
   "outputs": [
    {
     "name": "stdout",
     "output_type": "stream",
     "text": [
      "Матрица:\n",
      " [[1 0 0 0 0]\n",
      " [0 2 0 0 0]\n",
      " [0 0 3 0 0]\n",
      " [0 0 0 4 0]\n",
      " [0 0 0 0 5]]\n",
      "\n",
      "След:  15\n",
      "\n",
      "Обратная матрица:\n",
      " [[1.         0.         0.         0.         0.        ]\n",
      " [0.         0.5        0.         0.         0.        ]\n",
      " [0.         0.         0.33333333 0.         0.        ]\n",
      " [0.         0.         0.         0.25       0.        ]\n",
      " [0.         0.         0.         0.         0.2       ]]\n"
     ]
    }
   ],
   "source": [
    "m = np.diag(range(1,6))\n",
    "trace_of_m = np.trace(m)\n",
    "inverse_m = np.linalg.inv(m)\n",
    "\n",
    "print(\"Матрица:\\n\", m)\n",
    "print(\"\\nСлед: \", trace_of_m)\n",
    "print(\"\\nОбратная матрица:\\n\", inverse_m)"
   ]
  },
  {
   "cell_type": "markdown",
   "metadata": {},
   "source": [
    "__[3 балла]__ сгенерируйте случайную матрицу $X$ размера $4\\times5$\n",
    "\n",
    "- Найдите определитель подматрицы матрицы $X$, расположенной на пересечении 2 и 3 строки и 1 и 2 столбца; считаем, что строки и столбцы нумеруются с единицы (используйте slicing!). Такой определитель называется **минором** матрицы $X$.\n",
    "- Найдите произведение $X^TX$, найдите его определитель.\n"
   ]
  },
  {
   "cell_type": "code",
   "execution_count": 7,
   "metadata": {
    "ExecuteTime": {
     "end_time": "2023-10-28T07:33:41.346496200Z",
     "start_time": "2023-10-28T07:33:41.342660800Z"
    }
   },
   "outputs": [
    {
     "name": "stdout",
     "output_type": "stream",
     "text": [
      "X:\n",
      " [[13 14 16 15 18]\n",
      " [12 11 17 18 10]\n",
      " [17 16 14 11 16]\n",
      " [18 16 16 11 16]]\n",
      "Подматрица:\n",
      " [[12 11]\n",
      " [17 16]]\n",
      "Минор\n",
      " 4.999999999999983\n",
      "\n",
      "Транспонированная X:\n",
      " [[13 12 17 18]\n",
      " [14 11 16 16]\n",
      " [16 17 14 16]\n",
      " [15 18 11 11]\n",
      " [18 10 16 16]]\n",
      "Произведение транспонированной X на X:\n",
      " [[926 874 938 796 914]\n",
      " [874 829 891 760 874]\n",
      " [938 891 997 876 938]\n",
      " [796 760 876 791 802]\n",
      " [914 874 938 802 936]]\n",
      "Определитель произведения:\n",
      " 1.5233672456815728e-07\n"
     ]
    }
   ],
   "source": [
    "X = np.random.randint(10, 20, size=(4, 5))\n",
    "subX = X[1:3, 0:2]\n",
    "minor_of_X = np.linalg.det(subX)\n",
    "\n",
    "print(\"X:\\n\", X)\n",
    "print(\"Подматрица:\\n\", subX)\n",
    "print(\"Минор\\n\", minor_of_X)\n",
    "\n",
    "#Нахождение транспонированной матрицы\n",
    "X_transposed = X.T\n",
    "the_product = X_transposed @ X\n",
    "the_determinant = np.linalg.det(the_product)\n",
    "\n",
    "print(\"\\nТранспонированная X:\\n\", X_transposed)\n",
    "print(\"Произведение транспонированной X на X:\\n\", the_product)\n",
    "print(\"Определитель произведения:\\n\", the_determinant)"
   ]
  },
  {
   "cell_type": "markdown",
   "metadata": {
    "id": "WI_6RaU-moWp"
   },
   "source": [
    "##  Задача №2: время\n",
    "\n",
    "__[10 баллов]__ Питон мотивирует пользоваться библиотечными функциями, когда они доступны, а не писать собственные. Библиотечные функции основаны на современных алгоритмах, обычно пишутся на более эффективных языках, таких как C++ или Fortran, а кроме того, оптимизированы для работы на многопроцессорных устройствах, так что обогнать эти решения просто так вы не сможете.\n",
    "\n",
    "Мы предлагаем вам убедиться в этом самим. Напишите функцию `my_det`, которая вычисляла бы определитель матрицы с помощью элементарных преобразований над строками. Функция должна выкидывать `ValueError` в случаях, если матрица не является квадратной."
   ]
  },
  {
   "cell_type": "code",
   "execution_count": 8,
   "metadata": {
    "collapsed": true,
    "id": "7NgPQ2MtmoWq",
    "jupyter": {
     "outputs_hidden": true
    },
    "ExecuteTime": {
     "end_time": "2023-10-28T07:34:00.446506600Z",
     "start_time": "2023-10-28T07:34:00.446000800Z"
    }
   },
   "outputs": [],
   "source": [
    "def my_det(matrix):\n",
    "    \"\"\"\n",
    "    Вычисляет определитель квадратной матрицы, приводя ее к верхнетреугольному виду\n",
    "    :param matrix: квадратная матрица\n",
    "    :return: определитель\n",
    "    \"\"\"\n",
    "    matrix_copy = np.array(matrix, dtype=\"float64\")\n",
    "    m, n = matrix_copy.shape\n",
    "    if m!=n: \n",
    "        raise ValueError(f\"Матрица должна быть квадратной, а не {m}х{n}, как у вас\")\n",
    "\n",
    "    swap_count = 0\n",
    "    #обходим все строки матрица\n",
    "    for i in range(n-1):\n",
    "        if matrix_copy[i, i] == 0:\n",
    "            # если на i-й строке элемент диагонали равен 0, то ищем в следующих строках\n",
    "            # стоящий под ним ненулевой элемент\n",
    "            j = i + 1\n",
    "            while j < n and matrix_copy[j,i] == 0:\n",
    "                j += 1\n",
    "            if j < n:\n",
    "                # если нашли (while вышел по второй части условия), то \n",
    "                # меняем строки местами и увеличиваем счетчик смены строк, т.к. при смене строк определитель меняет знак\n",
    "                matrix_copy[[j, i]] = matrix_copy[[i, j]]\n",
    "                swap_count += 1\n",
    "            else:\n",
    "                # если не нашли, то определитель равен 0 и считать дальше нет смысла\n",
    "                return 0\n",
    "                        \n",
    "        # обеспечив наличие ненулевого элемента на месте (i,i), \n",
    "        # зануляем все элементы под ним в нижележащих строках   \n",
    "        for j in range(i+1, n):\n",
    "            multiplier = matrix_copy[j, i] / matrix_copy[i, i]\n",
    "            matrix_copy[j, :] -= multiplier * matrix_copy[i, :]\n",
    "\n",
    "    # определяем, сменил ли определитель знак в процессе приведения матрицы к верхнетреугольному виду\n",
    "    sign_factor = 1 if swap_count % 2 == 0 else -1\n",
    "    # вычисляем определитель как произведение элементов диагонали (с учетом смены знака)\n",
    "    return sign_factor * np.prod(matrix_copy.diagonal())"
   ]
  },
  {
   "cell_type": "markdown",
   "metadata": {
    "id": "YO72m_XsmoWq"
   },
   "source": [
    "Простая проверка:"
   ]
  },
  {
   "cell_type": "code",
   "execution_count": 9,
   "metadata": {
    "collapsed": true,
    "id": "3TUlLYOLmoWq",
    "jupyter": {
     "outputs_hidden": true
    },
    "ExecuteTime": {
     "end_time": "2023-10-28T07:34:03.385608700Z",
     "start_time": "2023-10-28T07:34:03.368035800Z"
    }
   },
   "outputs": [
    {
     "name": "stdout",
     "output_type": "stream",
     "text": [
      "[[0 0 1]\n",
      " [0 1 0]\n",
      " [1 0 0]]\n",
      "-1.0\n"
     ]
    }
   ],
   "source": [
    "# Запустите этот блок кода\n",
    "X = np.array([[0,0,1], [0,1,0], [1,0,0]])\n",
    "print(X)\n",
    "print(my_det(X))"
   ]
  },
  {
   "cell_type": "markdown",
   "metadata": {
    "id": "N1vKEClLmoWq"
   },
   "source": [
    "На случай, если нам просто повезло с этой матрицей, имеет смысл написать чуть более хитрые тесты. Мы сгенерируем несколько случайных матриц $8\\times8$ с помощью функции `numpy.random.rand` и сравним ответ, выдаваемый нашей функцией, с настоящим определителем (результатом работы библиотечной функции `scipy.linalg.det`):"
   ]
  },
  {
   "cell_type": "code",
   "execution_count": 14,
   "metadata": {
    "collapsed": true,
    "id": "EkyYxvUSmoWq",
    "jupyter": {
     "outputs_hidden": true
    },
    "ExecuteTime": {
     "end_time": "2023-10-28T07:34:51.400367800Z",
     "start_time": "2023-10-28T07:34:51.393351600Z"
    }
   },
   "outputs": [],
   "source": [
    "# Запустите этот блок кода\n",
    "for _ in range(10):\n",
    "    X = np.random.rand(8,8)\n",
    "    if np.abs(my_det(X) - sla.det(X)) > 1e-6:\n",
    "        print('FAILED')"
   ]
  },
  {
   "cell_type": "markdown",
   "metadata": {
    "id": "ezkmq4MRmoWr"
   },
   "source": [
    "Если вы ни разу не получили `FAILED`, то ваша функция работает правильно. "
   ]
  },
  {
   "cell_type": "markdown",
   "metadata": {
    "id": "7DYtTKT7moWr"
   },
   "source": [
    "Теперь давайте сравним скорость работы вашей функции и библиотечной функции `scipy.linalg.det`. В Питоне есть несколько способов измерения времени; мы воспользуемся декоратором `%timeit`. Будучи написан перед функцией, он запускает её некоторое количество раз, выбирает три случайных запуска и возвращает длительность самого быстрого из них. Модификатор `-o` между декоратором и функцией позволяет сохранять результаты работы декоратора в переменную.\n",
    "\n",
    "Приготовьтесь, что следующий блок может работать сравнительно долго."
   ]
  },
  {
   "cell_type": "code",
   "execution_count": 50,
   "metadata": {
    "collapsed": true,
    "id": "PJpkg2BHmoWr",
    "jupyter": {
     "outputs_hidden": true
    },
    "ExecuteTime": {
     "end_time": "2023-10-27T17:47:25.907164100Z",
     "start_time": "2023-10-27T17:46:58.805317Z"
    }
   },
   "outputs": [
    {
     "name": "stdout",
     "output_type": "stream",
     "text": [
      "4.86 µs ± 44.3 ns per loop (mean ± std. dev. of 7 runs, 100,000 loops each)\n",
      "65.9 µs ± 965 ns per loop (mean ± std. dev. of 7 runs, 10,000 loops each)\n",
      "4.09 ms ± 1.01 ms per loop (mean ± std. dev. of 7 runs, 100 loops each)\n",
      "6.78 ms ± 83 µs per loop (mean ± std. dev. of 7 runs, 100 loops each)\n",
      "42.9 ms ± 17.8 ms per loop (mean ± std. dev. of 7 runs, 1 loop each)\n",
      "991 ms ± 8.88 ms per loop (mean ± std. dev. of 7 runs, 1 loop each)\n"
     ]
    },
    {
     "data": {
      "text/plain": "<matplotlib.legend.Legend at 0x257d351cd10>"
     },
     "execution_count": 50,
     "metadata": {},
     "output_type": "execute_result"
    },
    {
     "data": {
      "text/plain": "<Figure size 640x480 with 1 Axes>",
      "image/png": "[encoded data removed]"
     },
     "metadata": {},
     "output_type": "display_data"
    }
   ],
   "source": [
    "# Запустите этот блок кода\n",
    "lib_times = []\n",
    "my_times = []\n",
    "dimensions = [10, 100, 1000]\n",
    "for dim in dimensions:\n",
    "    A = np.random.rand(dim, dim)\n",
    "    res_lib = %timeit -o sla.det(A)\n",
    "    lib_times.append(res_lib.best)\n",
    "    res_my = %timeit -o my_det(A)\n",
    "    my_times.append(res_my.best)    \n",
    "\n",
    "plt.plot(dimensions, lib_times, color='blue', label='Library function')\n",
    "plt.plot(dimensions, my_times, color='red', label='My function')\n",
    "plt.title('My function vs library function, log y scale')\n",
    "plt.ylabel('Time')\n",
    "plt.xlabel('Matrix dimension')\n",
    "plt.legend()"
   ]
  },
  {
   "cell_type": "markdown",
   "metadata": {
    "id": "NFIB6OHAmoWr"
   },
   "source": [
    "У вас должны были получиться графики, показывающие, как растёт с ростом размерности матрицы время вычисления определителя. Поскольку они вышли не больно-то красивыми, мы нарисуем их в *логарифмическом масштабе* по оси у:"
   ]
  },
  {
   "cell_type": "code",
   "execution_count": 51,
   "metadata": {
    "collapsed": true,
    "id": "GkgijRiWmoWr",
    "jupyter": {
     "outputs_hidden": true
    },
    "ExecuteTime": {
     "end_time": "2023-10-27T17:47:45.896109600Z",
     "start_time": "2023-10-27T17:47:45.641497400Z"
    }
   },
   "outputs": [
    {
     "data": {
      "text/plain": "<matplotlib.legend.Legend at 0x257d811dcd0>"
     },
     "execution_count": 51,
     "metadata": {},
     "output_type": "execute_result"
    },
    {
     "data": {
      "text/plain": "<Figure size 640x480 with 1 Axes>",
      "image/png": "[encoded data removed]"
     },
     "metadata": {},
     "output_type": "display_data"
    }
   ],
   "source": [
    "# Запустите этот блок кода\n",
    "plt.semilogy(dimensions, lib_times, color='blue', label='Library function')\n",
    "plt.semilogy(dimensions, my_times, color='red', label='My function')\n",
    "plt.title('My function vs library function, log y scale')\n",
    "plt.ylabel('Time')\n",
    "plt.xlabel('Matrix dimension')\n",
    "plt.legend()"
   ]
  },
  {
   "cell_type": "markdown",
   "metadata": {
    "id": "vH8mtr3JmoWr"
   },
   "source": [
    "Вы можете убедиться, что библиотечная функция работает *гораздо* быстрее."
   ]
  },
  {
   "cell_type": "markdown",
   "source": [
    "Также дополнительно построим график (в обычном масштабе) для набора размерностей 10, 100, 200, 300, 400, 500 и 600 "
   ],
   "metadata": {
    "collapsed": false
   }
  },
  {
   "cell_type": "code",
   "execution_count": 52,
   "outputs": [
    {
     "name": "stdout",
     "output_type": "stream",
     "text": [
      "4.86 µs ± 73 ns per loop (mean ± std. dev. of 7 runs, 100,000 loops each)\n",
      "68.3 µs ± 1.67 µs per loop (mean ± std. dev. of 7 runs, 10,000 loops each)\n",
      "3.59 ms ± 648 µs per loop (mean ± std. dev. of 7 runs, 100 loops each)\n",
      "6.78 ms ± 64.2 µs per loop (mean ± std. dev. of 7 runs, 100 loops each)\n",
      "8.1 ms ± 1.51 ms per loop (mean ± std. dev. of 7 runs, 100 loops each)\n",
      "28.7 ms ± 320 µs per loop (mean ± std. dev. of 7 runs, 10 loops each)\n",
      "13.9 ms ± 1.67 ms per loop (mean ± std. dev. of 7 runs, 100 loops each)\n",
      "67.7 ms ± 4.15 ms per loop (mean ± std. dev. of 7 runs, 10 loops each)\n",
      "16.5 ms ± 1.24 ms per loop (mean ± std. dev. of 7 runs, 100 loops each)\n",
      "119 ms ± 508 µs per loop (mean ± std. dev. of 7 runs, 10 loops each)\n",
      "16.4 ms ± 3.69 ms per loop (mean ± std. dev. of 7 runs, 10 loops each)\n",
      "195 ms ± 2.38 ms per loop (mean ± std. dev. of 7 runs, 1 loop each)\n",
      "26.2 ms ± 8.28 ms per loop (mean ± std. dev. of 7 runs, 10 loops each)\n",
      "317 ms ± 2.32 ms per loop (mean ± std. dev. of 7 runs, 1 loop each)\n"
     ]
    },
    {
     "data": {
      "text/plain": "<matplotlib.legend.Legend at 0x257d8585d10>"
     },
     "execution_count": 52,
     "metadata": {},
     "output_type": "execute_result"
    },
    {
     "data": {
      "text/plain": "<Figure size 640x480 with 1 Axes>",
      "image/png": "[encoded data removed]"
     },
     "metadata": {},
     "output_type": "display_data"
    }
   ],
   "source": [
    "lib_times = []\n",
    "my_times = []\n",
    "dimensions = [10, 100, 200, 300, 400, 500, 600]\n",
    "for dim in dimensions:\n",
    "    A = np.random.rand(dim, dim)\n",
    "    res_lib = %timeit -o sla.det(A)\n",
    "    lib_times.append(res_lib.best)\n",
    "    res_my = %timeit -o my_det(A)\n",
    "    my_times.append(res_my.best)    \n",
    "\n",
    "plt.plot(dimensions, lib_times, color='blue', label='Library function')\n",
    "plt.plot(dimensions, my_times, color='red', label='My function')\n",
    "plt.title('My function vs library function')\n",
    "plt.ylabel('Time')\n",
    "plt.xlabel('Matrix dimension')\n",
    "plt.legend()"
   ],
   "metadata": {
    "collapsed": false,
    "ExecuteTime": {
     "end_time": "2023-10-27T17:52:12.055322100Z",
     "start_time": "2023-10-27T17:50:56.248444200Z"
    }
   }
  },
  {
   "cell_type": "markdown",
   "metadata": {},
   "source": [
    "##  Задача №3: точность\n",
    "\n",
    "__[10 баллов]__ Наверняка вы уже что-то знаете про floating point arithmetics и связанные с этим трудности и понимаете, что на компьютере вычисления с вещественными числами производятся лишь с ограниченной точностью. "
   ]
  },
  {
   "cell_type": "markdown",
   "metadata": {},
   "source": [
    "В качестве первого примера, показывающего различие между длинной арифметикой целых чисел и floating point arithmetics, предлагаем вам перемножить две пары матриц:\n",
    "\n",
    "$$\n",
    "\\begin{pmatrix}\n",
    "1 & 0\\\\\n",
    "10^{20} & 1\n",
    "\\end{pmatrix}\n",
    "\\cdot\n",
    "\\begin{pmatrix}\n",
    "10^{-20} & 1\\\\\n",
    "0 & 1 - 10^{20}\n",
    "\\end{pmatrix}\n",
    "$$\n",
    "и\n",
    "$$\n",
    "\\begin{pmatrix}\n",
    "1. & 0.\\\\\n",
    "10.^{20} & 1.\n",
    "\\end{pmatrix}\n",
    "\\cdot\n",
    "\\begin{pmatrix}\n",
    "10.^{-20} & 1.\\\\\n",
    "0. & 1. - 10.^{20}\n",
    "\\end{pmatrix}\n",
    "$$\n",
    "Во втором случае мы специально указали Питону (поставив везде десятичные точки), что хотим работать не с целыми числами, а с числами с плавающей точкой. Посмотрим, получатся ли одинаковые ответы:"
   ]
  },
  {
   "cell_type": "code",
   "execution_count": 15,
   "metadata": {
    "ExecuteTime": {
     "end_time": "2023-10-28T08:03:54.423569700Z",
     "start_time": "2023-10-28T08:03:54.405904500Z"
    }
   },
   "outputs": [
    {
     "name": "stdout",
     "output_type": "stream",
     "text": [
      "Результат умножения матриц с целочисленными элементами:\n",
      " [[1e-20 1]\n",
      " [1.0 1]]\n"
     ]
    }
   ],
   "source": [
    "A = np.array([\n",
    "    [1, 0],\n",
    "    [10**20, 1]\n",
    "    ])\n",
    "B = np.array([\n",
    "    [10**(-20), 1], \n",
    "    [0, 1-10**20]])\n",
    "\n",
    "print('Результат умножения матриц с целочисленными элементами:\\n', A @ B)"
   ]
  },
  {
   "cell_type": "code",
   "execution_count": 16,
   "metadata": {
    "collapsed": true,
    "id": "_zUpUvbGmoWs",
    "jupyter": {
     "outputs_hidden": true
    },
    "ExecuteTime": {
     "end_time": "2023-10-28T08:03:59.435519200Z",
     "start_time": "2023-10-28T08:03:59.419821300Z"
    }
   },
   "outputs": [
    {
     "name": "stdout",
     "output_type": "stream",
     "text": [
      "Результат умножения матриц с float-элементами:\n",
      " [[1.e-20 1.e+00]\n",
      " [1.e+00 0.e+00]]\n"
     ]
    }
   ],
   "source": [
    "A = np.array([\n",
    "    [1., 0.],\n",
    "    [10.**20, 1.]\n",
    "])\n",
    "\n",
    "B = np.array([\n",
    "    [10.**(-20), 1.], \n",
    "    [0., 1.-10.**20]\n",
    "])\n",
    "print('Результат умножения матриц с float-элементами:\\n', A @ B)"
   ]
  },
  {
   "cell_type": "markdown",
   "metadata": {
    "id": "G7ht2QTUmoWs"
   },
   "source": [
    "И какой из них правильный?\n",
    "\n",
    "**Ответ:** Правильный ответ - первый (получаемый при умножении матриц с целочисленными элементами), т.к. если перемножить матрицы руками, видно, что элемент (1,1) равен единице, а не нулю"
   ]
  },
  {
   "cell_type": "markdown",
   "metadata": {
    "id": "C3IKhXXMmoWs"
   },
   "source": [
    "Впрочем, и с целыми числами тоже не всегда всё хорошо. Напишите функцию, генерирующую *матрицу Паскаля* заданной размерности $n$, то есть матрицу $P$, в которой $P_{ij} = C_{i+j}^i$. В этом задании нельзя пользоваться библиотечной функцией `scipy.linalg.pascal` или её аналогами из других библиотек. Обратите внимание, что использование факториалов крайне нежелательно, так как быстро приведёт к переполнению.\n",
    "\n",
    "В этом задании вы можете использовать цикл ``for``."
   ]
  },
  {
   "cell_type": "markdown",
   "source": [
    "*Примечание.* Поскольку первый столбец и первая строка матрица Паскаля состоят из единиц, то при формировании данной матрицы с использованием равенства $P_{ij} = C_{i+j}^i$ здесь и далее будем считать, что $i,j = \\overline{0,n-1}$ для матрицы размерности $n$ "
   ],
   "metadata": {
    "collapsed": false
   }
  },
  {
   "cell_type": "code",
   "execution_count": 43,
   "metadata": {
    "collapsed": true,
    "id": "PxD1ahvPmoWs",
    "jupyter": {
     "outputs_hidden": true
    },
    "ExecuteTime": {
     "end_time": "2023-10-28T10:53:10.688119700Z",
     "start_time": "2023-10-28T10:53:10.686182300Z"
    }
   },
   "outputs": [
    {
     "data": {
      "text/plain": "array([[ 1,  1,  1,  1,  1],\n       [ 1,  2,  3,  4,  5],\n       [ 1,  3,  6, 10, 15],\n       [ 1,  4, 10, 20, 35],\n       [ 1,  5, 15, 35, 70]], dtype=uint64)"
     },
     "execution_count": 43,
     "metadata": {},
     "output_type": "execute_result"
    }
   ],
   "source": [
    "def my_pascal(dim):\n",
    "    P = np.ones((dim, dim), dtype='uint64')\n",
    "    for i in range(1, dim): \n",
    "        for j in range(i, dim):\n",
    "            P[i,j] = P[j,i] = P[i-1, j] + P[i, j-1]\n",
    "    return P\n",
    "\n",
    "my_pascal(5)"
   ]
  },
  {
   "cell_type": "markdown",
   "metadata": {
    "id": "3P0Kz6MomoWs"
   },
   "source": [
    "Чему равен определитель такой матрицы в теории?\n",
    "\n",
    "**Ответ:** Определитель матрица Паскаля равен 1. \n",
    "**Обоснование** \n",
    "Первый столбец в матрице Паскаля состоит из единиц. Для каждой строки, от первой до предпоследней, вычтем ее из следующей строки. В результате получим, что в первом столбце 1 останется только на первой строке, а остальные строки будут заняты 0. \n",
    "\n",
    "При этом заметим, что в матрице Паскаля каждый элемент $P_{ij} = P_{(i-1)j}+P_{i(j-1)}$ для всех $i,j>0$. То есть, каждый элемент, расположенный не на первой строке и не в первом столбце, является суммой двух элементов: элемента, расположенного непосредственно над ним, и элемента, расположенного непосредственно слева от него. Поэтому при вычитании $i$-й строки из $i+1$-й, на месте каждого элемента в столбцах, начиная со второго, оказывается элемент, стоявший слева от него (т.к. элемент, стоявший над ним, как раз и вычитается). \n",
    "\n",
    "Это приводит к тому, что во всех строках, начиная со второй, столбцы матрицы сдвигаются вправо. В результате, во втором столбце матрицы оказываются 1. Что позволяет нам выполнить вышеописанную операцию вычитания опять, но только начиная теперь со второй строки. Это опять приведет к занулению всех элементов второго столбца, начиная с третьей строки, и сдвигу стобцов матрицы ниже этой строки вправо. \n",
    "\n",
    "Легко видеть, что повторяя данную операцию для последующих строк, можно привести матрицу к верхнетреугольному виде, а на диагонали этой матрицы будут 1. Так как определитель треугольной матрицы равен произведению элементов ее главной диагонали, а на ней у нас только 1, то определитель равен 1. \n",
    "\n",
    "Ниже приведен пример преобразования матрицы Паскаля размерностью 3 к такому виду. \n",
    "\n",
    "$$\n",
    "A = \\begin{vmatrix}\n",
    "1 & 1 & 1 \\\\\n",
    "1 & 2 & 3  \\\\\n",
    "1 & 3 & 6 \n",
    "\\end{vmatrix} =\n",
    "\\begin{vmatrix}\n",
    "1 & 1 & 1 \\\\\n",
    "0 & 1 & 2  \\\\\n",
    "0 & 1 & 3 \n",
    "\\end{vmatrix} =\n",
    "\\begin{vmatrix}\n",
    "1 & 1 & 1 \\\\\n",
    "0 & 1 & 2  \\\\\n",
    "0 & 0 & 1 \n",
    "\\end{vmatrix} = 1$$\n"
   ]
  },
  {
   "cell_type": "markdown",
   "metadata": {
    "id": "bvz9Wst_moWs"
   },
   "source": [
    "А теперь вычислите определитель матрицы Паскаля $30\\times30$ с помощью библиотечной функции `scipy.linalg.det`:"
   ]
  },
  {
   "cell_type": "code",
   "execution_count": 42,
   "metadata": {
    "collapsed": true,
    "id": "mz2uAjjEmoWs",
    "jupyter": {
     "outputs_hidden": true
    },
    "ExecuteTime": {
     "end_time": "2023-10-28T10:38:26.946897700Z",
     "start_time": "2023-10-28T10:38:26.942203300Z"
    }
   },
   "outputs": [
    {
     "data": {
      "text/plain": "-3.400444993542751e+51"
     },
     "execution_count": 42,
     "metadata": {},
     "output_type": "execute_result"
    }
   ],
   "source": [
    "sla.det(my_pascal(30))"
   ]
  },
  {
   "cell_type": "markdown",
   "metadata": {
    "id": "8ZM9w60nmoWs"
   },
   "source": [
    "Разница заметна невооружённым взглядом!"
   ]
  },
  {
   "cell_type": "markdown",
   "metadata": {
    "id": "HjL92lAzmoWt"
   },
   "source": [
    "##  Задача №4: матричные вычисления"
   ]
  },
  {
   "cell_type": "markdown",
   "metadata": {
    "id": "_tKBETFbmoWt"
   },
   "source": [
    "Вы уже видели, что использования циклов (и самописных вычислений в целом) в Питоне лучше по возможности избегать и важно уметь находить способы делать всё библиотечными средствами.\n",
    "\n",
    "В качестве примера рассмотрим две задачи:\n",
    "\n",
    "**1.** Предположим, нужно вычислить суммы элементов в каждой строке матрицы `A`. Ясно, что можно написать простую функцию с двумя циклами, которая это посчитает, но так лучше не делать. Правильный способ такой:\n",
    "```\n",
    "A.sum(axis=1)\n",
    "```\n",
    "Параметр `axis=1` означает, что суммы берутся по строкам. Если вы хотите просуммировать по столбцам, укажите `axis=0`. Если вообще пропустить параметр `axis` (вызвать `A.sum()`), то функция вернёт сумму *всех* элементов матрицы.\n",
    "\n",
    "**2.** Теперь допустим, что нам нужно каждый столбец матрицы `A` умножить на некоторое число. Более точно, пусть у нас есть (одномерный) вектор `w = np.array([w_1,...,w_n])`, и мы должны `i`-й столбец `A` умножить на число `w_i`. Опять же, это можно сделать в пару циклов, но лучше использовать операцию поэлементного умножения:\n",
    "```\n",
    "A * w.reshape((1,n))\n",
    "```\n",
    "Оператор `reshape` нужен для того, чтобы из одномерного вектора сделать вектор-строку.\n",
    "\n",
    "Аналогично, если на числа `w_1,...,w_n` умножаются *строки* матрицы, нужно превратить `w` в вектор-столбец:\n",
    "```\n",
    "A * w.reshape((n,1))\n",
    "```"
   ]
  },
  {
   "cell_type": "markdown",
   "metadata": {
    "id": "cDc9PzhHmoWt"
   },
   "source": [
    "Дальше вам будет предложено попрактиковаться в матричных вычислениях. В следующих трёх заданиях нельзя пользоваться циклами, а также конструкциями `map` и `reduce` и им подобными; вместо этого постарайтесь свести всё к матричным операциям из `numpy` (но, опять же, не `np.vectorize` или чему-то подобному). Чтобы убедиться, что получилось именно то, что нужно, пишите собственные тесты со случайными матрицами."
   ]
  },
  {
   "cell_type": "markdown",
   "metadata": {
    "id": "Q6MLfLDToM8y"
   },
   "source": [
    "Не забудьте написать тесты, которые будут проверять корректность ваших функций."
   ]
  },
  {
   "cell_type": "markdown",
   "metadata": {
    "id": "YT5HrPv_moWt"
   },
   "source": [
    "**[5 баллов]** Напишите функцию `prod_and_sq_sum(A)`, вычисляющую произведение и сумму квадратов диагональных элементов квадратной матрицы `A`."
   ]
  },
  {
   "cell_type": "code",
   "execution_count": 160,
   "metadata": {
    "collapsed": true,
    "id": "Ocn0DLI4moWt",
    "ExecuteTime": {
     "end_time": "2023-10-27T21:19:50.580837200Z",
     "start_time": "2023-10-27T21:19:50.576614600Z"
    }
   },
   "outputs": [
    {
     "name": "stdout",
     "output_type": "stream",
     "text": [
      "prod_and_sq_sum succeeded\n"
     ]
    }
   ],
   "source": [
    "# Произведение диагональных элементов квадратной матрицы равен определителю диагональной матрицы с теми же элементами диагонали,\n",
    "# а сумма квадратов диагональных элементов - это скалярное произведение вектора из диагональных элементов самого на себе (или, \n",
    "# что то же самое - произведение строки из диагональных элементов на столбец из этих же диагональных элементов).\n",
    "# Воспользуемся этим и напишем заданную функцию\n",
    "def prod_and_sq_sum(A:np.array):\n",
    "    d = np.diagonal(A)\n",
    "    prod = np.linalg.det(np.diag(d))\n",
    "    sq_sum = d[np.newaxis, :] @ d[:, np.newaxis]\n",
    "    return np.array((prod, sq_sum[0,0]))\n",
    "\n",
    "\n",
    "# для проверки работы написанной выше функции напишем реализацию такой же функции с использованием циклов\n",
    "def check_prod_and_sq_sum(A:np.array): \n",
    "    prod = 1\n",
    "    sq_sum = 0\n",
    "    for i in range(A.shape[0]):\n",
    "        prod = prod * A[i,i]\n",
    "        sq_sum = sq_sum + A[i,i]**2\n",
    "    return np.array((prod, sq_sum))\n",
    "\n",
    "# и проверим, что значения, возвращаемые функцией на 20 случайных матрицах 10х10 совпадают \n",
    "fails = 0\n",
    "for _ in range(20): \n",
    "    A = np.random.rand(10,10)\n",
    "    if np.any(abs(prod_and_sq_sum(A) - check_prod_and_sq_sum(A)) > 0.00001): \n",
    "        fails += 1\n",
    "print(f\"prod_and_sq_sum failed {fails} times\") if fails>0 else print('prod_and_sq_sum succeeded')"
   ]
  },
  {
   "cell_type": "code",
   "execution_count": 162,
   "outputs": [
    {
     "name": "stdout",
     "output_type": "stream",
     "text": [
      "prod_and_sq_sum2 succeeded\n"
     ]
    }
   ],
   "source": [
    "# Также заданную функцию можно написать с использованием функций np.sum и np.prod\n",
    "def prod_and_sq_sum2(A:np.array):\n",
    "    d = np.diagonal(A)\n",
    "    prod = np.prod(d)\n",
    "    sq_sum = np.sum(d ** 2)\n",
    "    return np.array((prod, sq_sum))\n",
    "\n",
    "# Проверим так же и эту функцию на 20 случайных массивах       \n",
    "fails = 0\n",
    "for _ in range(20): \n",
    "    A = np.random.rand(10,10)\n",
    "    if np.any(abs(prod_and_sq_sum2(A) - check_prod_and_sq_sum(A)) > 0.00001): \n",
    "        fails += 1\n",
    "print(f\"prod_and_sq_sum2 failed {fails} times\") if fails>0 else print('prod_and_sq_sum2 succeeded')"
   ],
   "metadata": {
    "collapsed": false,
    "jupyter": {
     "outputs_hidden": true
    },
    "ExecuteTime": {
     "end_time": "2023-10-27T21:20:09.360982100Z",
     "start_time": "2023-10-27T21:20:09.353887600Z"
    }
   }
  },
  {
   "cell_type": "markdown",
   "metadata": {
    "id": "DxShkE1UmoWt"
   },
   "source": [
    "**[5 баллов]** Для матриц `A` и `B` размера $m\\times n$ обозначим через $a_1,\\ldots,a_n$ и $b_1,\\ldots,b_n$ соответственно их столбцы. Напишите функцию `f(A, B, k)`, вычисляющую\n",
    "\n",
    "$$\\sum_{i=1}^{\\min(k,n)}a_ib_i^T$$"
   ]
  },
  {
   "cell_type": "code",
   "execution_count": 166,
   "metadata": {
    "collapsed": true,
    "id": "g1vaeLvkmoWu",
    "jupyter": {
     "outputs_hidden": true
    },
    "ExecuteTime": {
     "end_time": "2023-10-27T21:20:22.394597400Z",
     "start_time": "2023-10-27T21:20:22.378616900Z"
    }
   },
   "outputs": [
    {
     "name": "stdout",
     "output_type": "stream",
     "text": [
      "f succeeded\n"
     ]
    }
   ],
   "source": [
    "# реализуем заданную функцию с помощью матричных вычислений\n",
    "def f(A:np.array,B:np.array,k:int) -> np.array:\n",
    "    \"\"\"\n",
    "    Функция выполняет расчет суммы, указанной в условии задания, с использованием матричных вычислений из numpy.\n",
    "    Идея реализации состоит в том, чтобы представить исходную матрицу A в виде трехмерного массива, где в каждом элементе\n",
    "    первого измерения (назовем его слоем) будет столбец ai, а B в виде трехмерного массива, где в каждом \"слое\" будет строка biT\n",
    "    Получив такие трехмерные массивы мы можем средствами numpy выполнить их матричное умножение, в результате чего в каждом \n",
    "    \"слое\" результирующего массива будет произведение ai на biT. Просуммировав \"слои\" такого массива с помощью np.sum, мы получим \n",
    "    искомый результат. \n",
    "    Поскольку количество элементов суммы ограничено минимумом из k и n, изначальное количество слоев со столбцами из A и B можно также \n",
    "    ограничить этим числом    \n",
    "    :param A: Матрица размером m х n \n",
    "    :param B: Матрица размером m х n\n",
    "    :param k: натуральное число\n",
    "    :return: Матрица размером m х m, полученная путем вычисления по заданной формуле\n",
    "    \"\"\"\n",
    "    m, n = A.shape\n",
    "    At = A.T[:, :, np.newaxis][:min(k,n), :, :]\n",
    "    Bt = B.T[:, np.newaxis, :][:min(k,n), :, :]\n",
    "    return np.sum(At @ Bt, axis=0)\n",
    "\n",
    "# также реализуем функцию простым способом с использованием циклов и будем использовать ее для проверки работы \n",
    "# функции f\n",
    "def check_f(A:np.array, B:np.array, k:int) -> np.array:\n",
    "    m,n = A.shape\n",
    "    \n",
    "    R = np.zeros((m,m))\n",
    "    for i in range(min(k,n)):\n",
    "        ai = A[:,i].reshape(m,1) \n",
    "        biT = B[:,i].reshape(1,m)\n",
    "        prod = ai @ biT\n",
    "        R = R + prod \n",
    "    return R\n",
    "\n",
    "\n",
    "# Проверим работу функции f() на 20 парах случайных матриц размера 8 х 12 и k = 10       \n",
    "fails = 0\n",
    "for _ in range(20): \n",
    "    k = 10\n",
    "    m = 8\n",
    "    n = 12\n",
    "    A = np.random.rand(m,n)\n",
    "    B = np.random.rand(m,n)\n",
    "    if np.any(abs(f(A, B, k) - check_f(A, B, k)) > 0.00001): \n",
    "        fails += 1\n",
    "print(f\"f failed {fails} times\") if fails>0 else print('f succeeded')"
   ]
  },
  {
   "cell_type": "markdown",
   "metadata": {
    "id": "EUiRcVJdmoWu"
   },
   "source": [
    "**[5 баллов]** Напишите функцию `get_diag(A,B)`, принимающую две квадратных матрицы `A` и `B` одного размера и возвращающую вектор диагональных элементов произведения `AB`, не вычисляя произведение целиком. "
   ]
  },
  {
   "cell_type": "code",
   "execution_count": 172,
   "metadata": {
    "collapsed": true,
    "id": "qF7VVHrhmoWu",
    "jupyter": {
     "outputs_hidden": true
    },
    "ExecuteTime": {
     "end_time": "2023-10-27T21:26:28.257608500Z",
     "start_time": "2023-10-27T21:26:28.242163900Z"
    }
   },
   "outputs": [
    {
     "name": "stdout",
     "output_type": "stream",
     "text": [
      "get_diag succeeded\n"
     ]
    }
   ],
   "source": [
    "# реализуем заданную функцию с помощью матричных вычислений\n",
    "def get_diag(A:np.array, B:np.array)->np.array:\n",
    "    \"\"\"\n",
    "    Функция вычисляет диагональ произведения матрицы A на матрицу B, не выполняя вычисления всех элементов произведения. \n",
    "    Идея реализации состоит в том, чтобы представить исходную матрицу A в виде трехмерного массива, где в каждом элементе\n",
    "    первого измерения (назовем его слоем) будут строки A, а исходную матрицу B в виде трехмерного массива, где в каждом \n",
    "    \"слое\" будут столбцы B. \n",
    "    Поскольку элемент диагонали произведения на месте (i,i) - это произведение i-строки из А на i-столбец из B, то вычисление элементов\n",
    "    диагонали произведения А и B заключается в матричном произведении полученных трехмерных массивов, в результате которого\n",
    "    в каждом слое итогового массива и будет соответствующий элемент диагонали\n",
    "    :param A: Квадратная матрица n х n \n",
    "    :param B: Квадратная матрица n x n\n",
    "    :return: Диагональ элементов произведения AB\n",
    "    \"\"\"\n",
    "    At = A[:,np.newaxis, :]\n",
    "    Bt = B.T[:, :, np.newaxis]\n",
    "\n",
    "    return (At @ Bt).squeeze()\n",
    "\n",
    "# также реализуем функцию простым способом  и \n",
    "# будем использовать для проверки работы функции get_diag\n",
    "def check_get_diag(A:np.array, B:np.array)->np.array:\n",
    "    return np.diagonal(A @ B)\n",
    "\n",
    "# Проверим работу функции get_diag() на 20 парах случайных матриц размера 15x15       \n",
    "fails = 0\n",
    "for _ in range(20): \n",
    "    n = 15\n",
    "    A = np.random.rand(n,n)\n",
    "    B = np.random.rand(n,n)\n",
    "    if np.any(abs(get_diag(A,B) - check_get_diag(A,B)) > 0.00001): \n",
    "        fails += 1\n",
    "print(f\"f get_diag {fails} times\") if fails>0 else print('get_diag succeeded')"
   ]
  },
  {
   "cell_type": "markdown",
   "metadata": {
    "id": "H9iZAF6TmoWw"
   },
   "source": [
    "##  Задача №5 (бонусная): Метод Гаусса или обратные матрицы?\n",
    "\n",
    "__[15 баллов]__ Баллы за эту задачу считаются бонусными. То есть за дз в сумме можно набрать 115 баллов."
   ]
  },
  {
   "cell_type": "markdown",
   "metadata": {
    "id": "1liSd6SwmoWw"
   },
   "source": [
    "Пусть нам дано матричное уравнение $Ax = B$, где $A$ &mdash; матрица размера $n\\times n$, а $B$ &mdash; матрица размера $n\\times m$ (отметим, что это уравнение можно интерпретировать как $m$ систем с векторными правыми частями и одинаковыми левыми). Вообще говоря, методов решения таких уравнений очень много, но мы пока рассмотрим два из них, с которыми вы уже хорошо знакомы.\n",
    "1. Метод Гаусса;\n",
    "2. Умножение на обратную матрицу: $x = A^{-1}B$.\n",
    "\n",
    "В этом задании вы попробуете ответить на вопрос о том, какой из этих методов эффективнее. Проведите два эксперимента:\n",
    "- сравните скорости решения системы при фиксированном `m = 10` и `n`, изменяющемся в пределах от 10 до 1000; например, для `n=10, 50, 100, 200, 500, 1000` (рост числа неизвестных при фиксированном количестве правых частей);\n",
    "- сравните скорости решения системы при фиксированном `n = 100` и `m`, меняющемся от 10 до 10000; например, для `m = 10, 100, 500, 1000, 2000, 5000, 10000` (рост числа правых частей при фиксированном числе неизвестных).\n",
    "\n",
    "При проведении экспериментов не возбраняется использовать циклы `for`.\n",
    "\n",
    "Эксперименты проведите на случайных матрицах, созданных с помощью функции `numpy.random.rand`. Постройте графики времени выполнения функции от размерности (лучше в логарифмическом масштабе). Сделайте выводы (в письменном виде!) о том, какой их методов оказывается лучше в каких обстоятельствах.\n",
    "\n",
    "Чтобы всё это не казалось вам чёрной магией, найдите число операций (суммарно сложения, умножения и деления), необходимых для решения системы каждым из методов. Обратите внимание на члены суммарной степени 3 (суммарной по $m$ и $n$; члены меньшего порядка можете даже не считать). Постарайтесь объяснить полученные ранее результаты."
   ]
  },
  {
   "cell_type": "code",
   "execution_count": 23,
   "metadata": {
    "collapsed": true,
    "id": "LlZPR661moWw",
    "ExecuteTime": {
     "end_time": "2023-10-28T13:25:58.546153700Z",
     "start_time": "2023-10-28T13:24:30.464094100Z"
    }
   },
   "outputs": [
    {
     "name": "stdout",
     "output_type": "stream",
     "text": [
      "60.8 µs ± 1.35 µs per loop (mean ± std. dev. of 7 runs, 10,000 loops each)\n",
      "61 µs ± 2.18 µs per loop (mean ± std. dev. of 7 runs, 10,000 loops each)\n",
      "1.7 ms ± 51.4 µs per loop (mean ± std. dev. of 7 runs, 1,000 loops each)\n",
      "1.64 ms ± 116 µs per loop (mean ± std. dev. of 7 runs, 1,000 loops each)\n",
      "3.56 ms ± 1.25 ms per loop (mean ± std. dev. of 7 runs, 100 loops each)\n",
      "4.04 ms ± 711 µs per loop (mean ± std. dev. of 7 runs, 100 loops each)\n",
      "10.8 ms ± 4.18 ms per loop (mean ± std. dev. of 7 runs, 100 loops each)\n",
      "8.22 ms ± 1.13 ms per loop (mean ± std. dev. of 7 runs, 100 loops each)\n",
      "21.5 ms ± 1.48 ms per loop (mean ± std. dev. of 7 runs, 100 loops each)\n",
      "32.8 ms ± 8.35 ms per loop (mean ± std. dev. of 7 runs, 10 loops each)\n",
      "49.5 ms ± 19.8 ms per loop (mean ± std. dev. of 7 runs, 10 loops each)\n",
      "61.6 ms ± 10 ms per loop (mean ± std. dev. of 7 runs, 10 loops each)\n"
     ]
    }
   ],
   "source": [
    "'''\n",
    "сравните скорости решения системы при фиксированном m = 10 и n, изменяющемся в пределах от 10 до 1000;\n",
    "например, для n=10, 50, 100, 200, 500, 1000 (рост числа неизвестных при фиксированном количестве правых частей);\n",
    "'''\n",
    "m = 10\n",
    "time_taken_for_gauss1 = []\n",
    "time_taken_for_inverted_matrix1 = []\n",
    "n_values = [10, 50, 100, 200, 500, 1000]\n",
    "for n in n_values:\n",
    "    A = np.random.rand(n,n)\n",
    "    B = np.random.rand(n, m)\n",
    "    \n",
    "    t = %timeit -o np.linalg.solve(A, B)\n",
    "    time_taken_for_gauss1.append(t.best)\n",
    "    \n",
    "    t = %timeit -o (np.linalg.inv(A).dot(B))\n",
    "    time_taken_for_inverted_matrix1.append(t.best)\n",
    "    "
   ]
  },
  {
   "cell_type": "code",
   "execution_count": 25,
   "outputs": [
    {
     "data": {
      "text/plain": "<matplotlib.legend.Legend at 0x1fd77621910>"
     },
     "execution_count": 25,
     "metadata": {},
     "output_type": "execute_result"
    },
    {
     "data": {
      "text/plain": "<Figure size 640x480 with 1 Axes>",
      "image/png": "[encoded data removed]"
     },
     "metadata": {},
     "output_type": "display_data"
    }
   ],
   "source": [
    "plt.plot(n_values, time_taken_for_gauss1, color='blue', label='Метод Гаусса')\n",
    "plt.plot(n_values, time_taken_for_inverted_matrix1, color='red', label='Метод с поиском обратной матрицы')\n",
    "plt.title('Время решения матричного уравнения методом Гаусса и методом поиска обратной матрицы')\n",
    "plt.ylabel('Время')\n",
    "plt.xlabel('Размерность матрицы A')\n",
    "plt.legend()"
   ],
   "metadata": {
    "collapsed": false,
    "jupyter": {
     "outputs_hidden": true
    },
    "ExecuteTime": {
     "end_time": "2023-10-28T13:26:08.794499500Z",
     "start_time": "2023-10-28T13:26:08.649078200Z"
    }
   }
  },
  {
   "cell_type": "code",
   "execution_count": 21,
   "outputs": [
    {
     "name": "stdout",
     "output_type": "stream",
     "text": [
      "4.1 ms ± 1.01 ms per loop (mean ± std. dev. of 7 runs, 100 loops each)\n",
      "3.78 ms ± 718 µs per loop (mean ± std. dev. of 7 runs, 100 loops each)\n",
      "4.42 ms ± 621 µs per loop (mean ± std. dev. of 7 runs, 100 loops each)\n",
      "4.03 ms ± 762 µs per loop (mean ± std. dev. of 7 runs, 100 loops each)\n",
      "3.9 ms ± 716 µs per loop (mean ± std. dev. of 7 runs, 100 loops each)\n",
      "4.33 ms ± 2.11 ms per loop (mean ± std. dev. of 7 runs, 100 loops each)\n",
      "4.87 ms ± 701 µs per loop (mean ± std. dev. of 7 runs, 100 loops each)\n",
      "4.35 ms ± 760 µs per loop (mean ± std. dev. of 7 runs, 100 loops each)\n",
      "7.8 ms ± 629 µs per loop (mean ± std. dev. of 7 runs, 100 loops each)\n",
      "5.84 ms ± 664 µs per loop (mean ± std. dev. of 7 runs, 100 loops each)\n",
      "11.6 ms ± 480 µs per loop (mean ± std. dev. of 7 runs, 100 loops each)\n",
      "6.9 ms ± 1.07 ms per loop (mean ± std. dev. of 7 runs, 100 loops each)\n",
      "20.4 ms ± 3.15 ms per loop (mean ± std. dev. of 7 runs, 10 loops each)\n",
      "9.59 ms ± 205 µs per loop (mean ± std. dev. of 7 runs, 100 loops each)\n"
     ]
    }
   ],
   "source": [
    "'''сравните скорости решения системы при фиксированном `n = 100` и `m`, меняющемся от 10 до 10000; \n",
    "например, для `m = 10, 100, 500, 1000, 2000, 5000, 10000` \n",
    "(рост числа правых частей при фиксированном числе неизвестных)'''\n",
    "\n",
    "n = 100\n",
    "time_taken_for_gauss2 = []\n",
    "time_taken_for_inverted_matrix2 = []\n",
    "m_values = [10, 100, 500, 1000, 2000, 5000, 10000]\n",
    "for m in m_values:\n",
    "    A = np.random.rand(n,n)\n",
    "    B = np.random.rand(n, m)\n",
    "    \n",
    "    t = %timeit -o np.linalg.solve(A, B)\n",
    "    time_taken_for_gauss2.append(t.best)\n",
    "    \n",
    "    t = %timeit -o (np.linalg.inv(A).dot(B))\n",
    "    time_taken_for_inverted_matrix2.append(t.best)\n",
    "    "
   ],
   "metadata": {
    "collapsed": false,
    "ExecuteTime": {
     "end_time": "2023-10-28T13:21:02.051964100Z",
     "start_time": "2023-10-28T13:19:58.327888200Z"
    }
   }
  },
  {
   "cell_type": "code",
   "execution_count": 22,
   "outputs": [
    {
     "data": {
      "text/plain": "<matplotlib.legend.Legend at 0x1fd775cdc50>"
     },
     "execution_count": 22,
     "metadata": {},
     "output_type": "execute_result"
    },
    {
     "data": {
      "text/plain": "<Figure size 640x480 with 1 Axes>",
      "image/png": "[encoded data removed]"
     },
     "metadata": {},
     "output_type": "display_data"
    }
   ],
   "source": [
    "plt.semilogy(m_values, time_taken_for_gauss2, color='blue', label='Метод Гаусса')\n",
    "plt.semilogy(m_values, time_taken_for_inverted_matrix2, color='red', label='Метод с поиском обратной матрицы')\n",
    "plt.title('Время решения матричного уравнения методом Гаусса и методом поиска обратной матрицы')\n",
    "plt.ylabel('Время')\n",
    "plt.xlabel('Количество столбцов матрица B')\n",
    "plt.legend()"
   ],
   "metadata": {
    "collapsed": false,
    "ExecuteTime": {
     "end_time": "2023-10-28T13:21:06.350082100Z",
     "start_time": "2023-10-28T13:21:06.154396700Z"
    }
   }
  },
  {
   "cell_type": "markdown",
   "source": [
    "TODO: Выводы по графикам\n",
    "\n",
    "TODO: Подсчет количества операций и обоснование"
   ],
   "metadata": {
    "collapsed": false
   }
  }
 ],
 "metadata": {
  "colab": {
   "provenance": []
  },
  "kernelspec": {
   "display_name": "Python 3 (ipykernel)",
   "language": "python",
   "name": "python3"
  },
  "language_info": {
   "codemirror_mode": {
    "name": "ipython",
    "version": 3
   },
   "file_extension": ".py",
   "mimetype": "text/x-python",
   "name": "python",
   "nbconvert_exporter": "python",
   "pygments_lexer": "ipython3",
   "version": "3.10.9"
  }
 },
 "nbformat": 4,
 "nbformat_minor": 4
}
