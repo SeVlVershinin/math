{
 "cells": [
  {
   "cell_type": "code",
   "execution_count": 10,
   "id": "initial_id",
   "metadata": {
    "collapsed": true,
    "ExecuteTime": {
     "end_time": "2023-10-29T14:09:41.071655500Z",
     "start_time": "2023-10-29T14:09:41.066641800Z"
    }
   },
   "outputs": [
    {
     "data": {
      "text/plain": "array([[ -483, -3717],\n       [ 1380,   879]])"
     },
     "execution_count": 10,
     "metadata": {},
     "output_type": "execute_result"
    }
   ],
   "source": [
    "import numpy as np\n",
    "\n",
    "A = np.array([\n",
    "    [47, 59],\n",
    "    [-23, 21]\n",
    "])\n",
    "B = np.array([\n",
    "    [-42, -59],\n",
    "    [22, -20]\n",
    "])\n",
    "\n",
    "E = np.array([\n",
    "    [1, 0],\n",
    "    [0, 1]\n",
    "])\n",
    "\n",
    "A@A + A@B + B@A + B"
   ]
  },
  {
   "cell_type": "code",
   "execution_count": 13,
   "outputs": [
    {
     "data": {
      "text/plain": "array([[-1.,  3., -8.,  3.],\n       [ 1., -2.,  4., -1.],\n       [ 0.,  0.,  2., -1.],\n       [-0., -0.,  1., -1.]])"
     },
     "execution_count": 13,
     "metadata": {},
     "output_type": "execute_result"
    }
   ],
   "source": [
    "A = np.array([\n",
    "    [2, 3, 1, 2],\n",
    "    [1, 1, 2, 0],\n",
    "    [0,0,1,-1],\n",
    "    [0,0,1,-2]\n",
    "])\n",
    "\n",
    "np.linalg.inv(A)"
   ],
   "metadata": {
    "collapsed": false,
    "ExecuteTime": {
     "end_time": "2023-10-29T14:11:24.342591200Z",
     "start_time": "2023-10-29T14:11:24.325259300Z"
    }
   },
   "id": "a99b7da69ae2d95"
  }
 ],
 "metadata": {
  "kernelspec": {
   "display_name": "Python 3",
   "language": "python",
   "name": "python3"
  },
  "language_info": {
   "codemirror_mode": {
    "name": "ipython",
    "version": 2
   },
   "file_extension": ".py",
   "mimetype": "text/x-python",
   "name": "python",
   "nbconvert_exporter": "python",
   "pygments_lexer": "ipython2",
   "version": "2.7.6"
  }
 },
 "nbformat": 4,
 "nbformat_minor": 5
}
